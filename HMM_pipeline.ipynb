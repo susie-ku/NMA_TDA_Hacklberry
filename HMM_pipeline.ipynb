{
 "cells": [
  {
   "cell_type": "code",
   "execution_count": 3,
   "metadata": {},
   "outputs": [
    {
     "name": "stdout",
     "output_type": "stream",
     "text": [
      "The autoreload extension is already loaded. To reload it, use:\n",
      "  %reload_ext autoreload\n"
     ]
    }
   ],
   "source": [
    "%load_ext autoreload\n",
    "%autoreload 2"
   ]
  },
  {
   "cell_type": "code",
   "execution_count": 4,
   "metadata": {},
   "outputs": [],
   "source": [
    "import matplotlib.pyplot as plt\n",
    "import numpy as np\n",
    "from sklearn.decomposition import PCA\n",
    "import matplotlib.pyplot as plt\n",
    "from mpl_toolkits.mplot3d import Axes3D\n",
    "# import umap\n",
    "# import ipyvolume as ipv\n",
    "import os, requests\n",
    "import time\n",
    "\n",
    "from tqdm.notebook import tqdm\n",
    "from scipy import stats"
   ]
  },
  {
   "cell_type": "markdown",
   "metadata": {},
   "source": [
    "## Data retrieval"
   ]
  },
  {
   "cell_type": "code",
   "execution_count": null,
   "metadata": {},
   "outputs": [],
   "source": [
    "#@title Data retrieval\n",
    "import os, requests\n",
    "\n",
    "fname = []\n",
    "\n",
    "for j in range(3):\n",
    "    fname.append('steinmetz_part%d.npz'%j)\n",
    "    \n",
    "url = [\"https://osf.io/agvxh/download\"]\n",
    "url.append(\"https://osf.io/uv3mw/download\")\n",
    "url.append(\"https://osf.io/ehmw2/download\")\n",
    "\n",
    "for j in range(len(url)):\n",
    "    if not os.path.isfile(fname[j]):\n",
    "        try:\n",
    "            r = requests.get(url[j])\n",
    "        except requests.ConnectionError:\n",
    "            print(\"!!! Failed to download data !!!\")\n",
    "        else:\n",
    "            if r.status_code != requests.codes.ok:\n",
    "                print(\"!!! Failed to download data !!!\")\n",
    "            else:\n",
    "                with open(fname[j], \"wb\") as fid:\n",
    "                    fid.write(r.content)\n"
   ]
  },
  {
   "cell_type": "markdown",
   "metadata": {},
   "source": [
    "### Importing spike-train data"
   ]
  },
  {
   "cell_type": "code",
   "execution_count": null,
   "metadata": {},
   "outputs": [],
   "source": [
    "# importing spike-train data (we need bins = 1 ms for HMM instead of 10 ms)\n",
    "\n",
    "filename = 'steinmetz_st.npz'\n",
    "\n",
    "url = \"https://osf.io/4bjns/download\"\n",
    "\n",
    "if not os.path.isfile(filename):\n",
    "    try:\n",
    "        r = requests.get(url)\n",
    "    except requests.ConnectionError:\n",
    "        print(\"!!! Failed to download data !!!\")\n",
    "    else:\n",
    "        if r.status_code != requests.codes.ok:\n",
    "            print(\"!!! Failed to download data !!!\")\n",
    "        else:\n",
    "            with open(filename, \"wb\") as fid:\n",
    "                fid.write(r.content)"
   ]
  },
  {
   "cell_type": "code",
   "execution_count": 5,
   "metadata": {},
   "outputs": [],
   "source": [
    "## DO NOT TOUCH ONCE LOADED ----- !! High RAM consumption !! \n",
    "\n",
    "dat_ST = np.load('steinmetz_st.npz', allow_pickle=True)['dat']"
   ]
  },
  {
   "cell_type": "code",
   "execution_count": 7,
   "metadata": {},
   "outputs": [
    {
     "name": "stdout",
     "output_type": "stream",
     "text": [
      "Number of sessions: 39\n",
      "N neurons: 857\n",
      "M trials (for 10-th session): 342\n",
      "\n",
      "Data shape is thus (n_neurons, n_trials) = (857, 342)\n"
     ]
    }
   ],
   "source": [
    "# Pick up one session\n",
    "print(\"Number of sessions: {}\".format(dat_ST.shape[0]))\n",
    "\n",
    "session = 10\n",
    "data = dat_ST[session]['ss']\n",
    "\n",
    "# print(\"Total number of trials (for every session): {}\".format(total_trials))\n",
    "print(\"N neurons: {}\".format(data.shape[0]))\n",
    "print(\"M trials (for {}-th session): {}\".format(session, data.shape[1]))\n",
    "print()\n",
    "# ???\n",
    "print(\"Data shape is thus (n_neurons, n_trials) = ({}, {})\".format(*data.shape))\n",
    "\n",
    "n_neurons = data.shape[0]\n",
    "n_trials = data.shape[1]"
   ]
  },
  {
   "cell_type": "code",
   "execution_count": 8,
   "metadata": {},
   "outputs": [
    {
     "data": {
      "image/png": "[encoded data removed]",
      "text/plain": [
       "<Figure size 864x576 with 1 Axes>"
      ]
     },
     "metadata": {
      "needs_background": "light"
     },
     "output_type": "display_data"
    }
   ],
   "source": [
    "# visualize session data for i-th trial\n",
    "\n",
    "i_trial = 0\n",
    "\n",
    "fig, ax = plt.subplots(figsize=(12, 8))\n",
    "\n",
    "ax.eventplot(data[:, i_trial], color='black' )\n",
    "\n",
    "plt.show()"
   ]
  },
  {
   "cell_type": "markdown",
   "metadata": {},
   "source": [
    "### Data preprocessing"
   ]
  },
  {
   "cell_type": "code",
   "execution_count": 16,
   "metadata": {},
   "outputs": [],
   "source": [
    "def bin_1trial_1neuron_data(data, i_neuron, i_trial, dt=0.001, T=2.5):\n",
    "    \"\"\"\n",
    "    Bins data for neuron #i, trial #i \n",
    "    in bins with length = dt, total trial time = T\n",
    "    \"\"\"\n",
    "    bins = np.arange(0., T + dt, dt)\n",
    "    spikes, t = np.histogram(data[i_neuron][i_trial], bins) # Binning spikes into dt (ms) bins\n",
    "    spikes[spikes > 1] = 1 # Assuming <=1 spike in the time bin\n",
    "    return spikes, t\n",
    "    \n",
    "def bin_1trial_data(data, i_neurons, i_trial, dt=0.001, T=2.5):\n",
    "    \"\"\"\n",
    "    Bins data for neurons of  № = [neuron_1_idx, neuron_2_idx, ...] \n",
    "    in bins with length = dt, total time = T\n",
    "    \n",
    "    returns array of shape (len(i_neurons), len(trial) in units of dt)\n",
    "    \"\"\"\n",
    "    nbins = len(np.arange(0., T + dt, dt)) - 1\n",
    "    binned_data = np.zeros(nbins).reshape((1, nbins)) # add zero-valued row to use vstack\n",
    "    \n",
    "    for i_neuron in i_neurons:\n",
    "        binned_data = np.vstack((binned_data, bin_1trial_1neuron_data(data, i_neuron, i_trial)[0]))\n",
    "    binned_data = np.delete(binned_data, 0, 0) # remove first zero-valued row\n",
    "    \n",
    "    # TODO: here we should implement that there should be \n",
    "    # no more than two spikes (of different neurons) in one time bin\n",
    "    \n",
    "    return binned_data\n",
    "\n",
    "def bin_data(data, dt=0.001, T=2.5):\n",
    "    \"\"\"\n",
    "    Bins spiking data in dt bins, converts in a shape (n_trials, T, n_neurons)\n",
    "    Input shape = (n_neurons, n_trials, var_size)\n",
    "    \"\"\"\n",
    "    print(\"Data shape: {}\".format(data.shape))\n",
    "    n_neurons = data.shape[0]\n",
    "    n_trials = data.shape[1]\n",
    "    i_neurons = np.arange(n_neurons) # All neurons\n",
    "\n",
    "    binned_data = np.array([bin_1trial_data(data, i_neurons, i_trial, dt, T).reshape((-1, n_neurons)) \\\n",
    "                           for i_trial in tqdm(range(n_trials))])\n",
    "    # reshape for shape (T, n_neurons)\n",
    "    \n",
    "    # Make sure there is no simultenous firing of >= 2 neurons in one timestep\n",
    "    # eliminate_multiple_spikes(binned_data) # TODO\n",
    "    \n",
    "    print(\"Binned data shape: {}\".format(binned_data.shape))\n",
    "    \n",
    "    return binned_data.astype('int')\n",
    "\n",
    "def eliminate_multiple_spikes(binned_data):\n",
    "    \"\"\"\n",
    "    ------TODO------\n",
    "    Makes sure there is no simultenous firing of >= 2 neurons in one timestep\n",
    "    Input shape = (n_trials, T, n_neurons)\n",
    "    \"\"\"\n",
    "    pass # to clear when done\n",
    "\n",
    "    t_idx = np.sum(binned_data, axis=2) > 1\n",
    "    \n",
    "    for t in t_idx:\n",
    "        neurons_idx = (binned_data[:, t_idx] == 1)\n",
    "        # choose which neuron fires randomly\n",
    "        \n",
    "        binned_data[:, t_idx] = np.zeros_like(binned_data[:, t_idx])\n",
    "        \n",
    "    \n",
    "    "
   ]
  },
  {
   "cell_type": "code",
   "execution_count": 10,
   "metadata": {},
   "outputs": [
    {
     "data": {
      "text/plain": [
       "array([[ True, False, False,  True],\n",
       "       [False, False,  True, False],\n",
       "       [False,  True, False, False],\n",
       "       [ True, False, False,  True]])"
      ]
     },
     "execution_count": 10,
     "metadata": {},
     "output_type": "execute_result"
    }
   ],
   "source": [
    "A = np.arange(16).reshape((4, 4))\n",
    "\n",
    "A % 3 == 0"
   ]
  },
  {
   "cell_type": "code",
   "execution_count": 11,
   "metadata": {},
   "outputs": [],
   "source": [
    "def obtain_firing_rate(data, i_neuron, stat_for_trials=np.max, T=2.5):\n",
    "    \"\"\"\n",
    "    Obtains single neuron FR for all trials\n",
    "    Required data type: times of spikes\n",
    "    \"\"\"\n",
    "    n_trials = data.shape[1]\n",
    "    firing_rates_for_trials = np.array([len(data[i_neuron][i_trial]) / T for i_trial in range(n_trials)])\n",
    "    \n",
    "    return stat_for_trials(firing_rates_for_trials)\n",
    "\n",
    "def find_silent_neurons(data, threshold = 2):\n",
    "    \"\"\"\n",
    "    Finds spike indexes firing less frequent then theshold value (in Hz)\n",
    "    Required data type: times of spikes\n",
    "    \"\"\"\n",
    "    silent_neurons_idx = []\n",
    "    ok_neurons_idx = []\n",
    "    for i_neuron in range(data.shape[0]):\n",
    "        if obtain_firing_rate(data, i_neuron, stat=np.max, T=2.5) < threshold:\n",
    "            silent_neurons_idx.append(i_neuron)\n",
    "        else:\n",
    "            ok_neurons_idx.append(i_neuron)\n",
    "    return silent_neurons_idx, ok_neurons_idx\n",
    "\n",
    "def exclude_silent_neurons(data):\n",
    "    \"\"\"\n",
    "    \n",
    "    \"\"\"\n",
    "    n_neurons = data.shape[0]\n",
    "    silent_idx, ok_idx = find_silent_neurons(data)\n",
    "    data = data[ok_idx]\n",
    "    return data\n",
    "    "
   ]
  },
  {
   "cell_type": "code",
   "execution_count": 12,
   "metadata": {},
   "outputs": [],
   "source": [
    "mean_firing_rates = np.array([obtain_firing_rate(data, i_neuron, np.mean) for i_neuron in range(n_neurons)])"
   ]
  },
  {
   "cell_type": "code",
   "execution_count": 13,
   "metadata": {},
   "outputs": [
    {
     "data": {
      "image/png": "[encoded data removed]",
      "text/plain": [
       "<Figure size 432x288 with 1 Axes>"
      ]
     },
     "metadata": {
      "needs_background": "light"
     },
     "output_type": "display_data"
    },
    {
     "name": "stdout",
     "output_type": "stream",
     "text": [
      "Max firing rate: 67.8\n"
     ]
    }
   ],
   "source": [
    "plt.hist(mean_firing_rates, bins=20)\n",
    "plt.title(\"Mean firing rates\")\n",
    "plt.show()\n",
    "max_firing_rate = np.max(mean_firing_rates)\n",
    "print(f\"Max firing rate: {max_firing_rate:.3}\")"
   ]
  },
  {
   "cell_type": "code",
   "execution_count": 17,
   "metadata": {},
   "outputs": [
    {
     "name": "stdout",
     "output_type": "stream",
     "text": [
      "Data shape: (857, 342)\n"
     ]
    },
    {
     "data": {
      "application/vnd.jupyter.widget-view+json": {
       "model_id": "b15434cb2c5a42b8b6b23a73fb098bb4",
       "version_major": 2,
       "version_minor": 0
      },
      "text/plain": [
       "HBox(children=(FloatProgress(value=0.0, max=342.0), HTML(value='')))"
      ]
     },
     "metadata": {},
     "output_type": "display_data"
    },
    {
     "name": "stdout",
     "output_type": "stream",
     "text": [
      "\n",
      "Binned data shape: (342, 2500, 857)\n",
      "Wall time: 21min 20s\n"
     ]
    }
   ],
   "source": [
    "%%time\n",
    "\n",
    "# binning spiking data to array of 0, 1 (dt = 1ms)\n",
    "binned_data = bin_data(data)"
   ]
  },
  {
   "cell_type": "code",
   "execution_count": 18,
   "metadata": {},
   "outputs": [],
   "source": [
    "# float64 -> int\n",
    "\n",
    "binned_data = binned_data.astype('int')"
   ]
  },
  {
   "cell_type": "markdown",
   "metadata": {},
   "source": [
    "### General HMM pipeline (PLAN)\n",
    "\n",
    "1. Preload and preprocess data: \n",
    "    * exclude low-spiking neurons (< threshold)\n",
    "    * 1 ms bins\n",
    "    * ensure there is not more than 1 spike (of any neuron) in one time bin\n",
    "\n",
    "2. Determine the Poisson HMM Model (Luca 2015): \n",
    "    * determine observation probabilities\n",
    "    * determine transition probabilities (Aij)\n",
    "    "
   ]
  },
  {
   "cell_type": "markdown",
   "metadata": {},
   "source": [
    "First let's assume number of hidden states is K = 10"
   ]
  },
  {
   "cell_type": "markdown",
   "metadata": {},
   "source": [
    "#### Expectation maximization (EM) backward-forward algorithm"
   ]
  },
  {
   "cell_type": "code",
   "execution_count": 19,
   "metadata": {},
   "outputs": [],
   "source": [
    "def e_step(Y, psi, A, L, dt):\n",
    "    \"\"\"Calculate the E-step for the HMM spiking model.\n",
    "\n",
    "    Args:\n",
    "    Y (numpy 3d array): tensor of recordings, has shape (n_trials, T, C)\n",
    "    psi (numpy vector): initial probabilities for each state\n",
    "    A (numpy matrix):   transition matrix, A[i,j] represents the prob to\n",
    "                        switch from i to j. Has shape (K,K)\n",
    "    L (numpy matrix):   Poisson rate parameter for different cells.\n",
    "                        Has shape (C,K)\n",
    "    dt (float):         Bin length\n",
    "\n",
    "    Returns:\n",
    "    ll (float):             data log likelihood\n",
    "    gamma (numpy 3d array): singleton marginal distribution.\n",
    "                            Has shape (n_trials, T, K)\n",
    "    xi (numpy 4d array):    pairwise marginal distribution for adjacent\n",
    "                            nodes . Has shape (n_trials, T-1, K, K)\n",
    "    \"\"\"\n",
    "    n_trials = Y.shape[0]\n",
    "    T = Y.shape[1]\n",
    "    K = psi.size\n",
    "    log_a = np.zeros((n_trials, T, K))\n",
    "    log_b = np.zeros((n_trials, T, K))\n",
    "\n",
    "    log_A = np.log(A)\n",
    "    \n",
    "    #print(\"Extracting Poisson observations\")\n",
    "    log_obs = stats.poisson(L * dt).pmf(Y[..., None]).sum(-2)  # (n_trials, T, K)\n",
    "\n",
    "    # forward pass\n",
    "    #print(\"Starting forward pass calculation\")\n",
    "    log_a[:, 0] = log_obs[:, 0] + np.log(psi)\n",
    "    for t in range(1, T):\n",
    "        tmp = log_A + log_a[:, t - 1, : ,None]  # (n_trials, K,K)\n",
    "        maxtmp = tmp.max(-2)  # (n_trials,K)\n",
    "        log_a[:, t] = (log_obs[:, t] + maxtmp + np.log(np.exp(tmp - maxtmp[:, None]).sum(-2)))\n",
    "\n",
    "    # backward pass\n",
    "    #print(\"Starting backward pass calculation\")\n",
    "    for t in range(T - 2, -1, -1):\n",
    "        tmp = log_A + log_b[:, t + 1, None] + log_obs[:, t + 1, None]\n",
    "        maxtmp = tmp.max(-1)\n",
    "        log_b[:, t] = maxtmp + np.log(np.exp(tmp - maxtmp[..., None]).sum(-1))\n",
    "\n",
    "    # data log likelihood \n",
    "    maxtmp = log_a[:, -1].max(-1)\n",
    "    ll = np.log(np.exp(log_a[:, -1] - maxtmp[:, None]).sum(-1)) + maxtmp\n",
    "\n",
    "    # singleton and pairwise marginal distributions \n",
    "    gamma = np.exp(log_a + log_b - ll[:, None, None])\n",
    "    xi = np.exp(log_a[:, :-1, :, None] + (log_obs + log_b)[:, 1:, None] + log_A - ll[:, None, None, None])\n",
    "\n",
    "    return ll.mean() / T / dt, gamma, xi"
   ]
  },
  {
   "cell_type": "code",
   "execution_count": 20,
   "metadata": {},
   "outputs": [],
   "source": [
    "def m_step(Y, gamma, xi, dt):\n",
    "    \"\"\"Calculate the M-step updates for the HMM spiking model.\n",
    "\n",
    "    Args:\n",
    "    gamma ():       Number of epochs of EM to run\n",
    "    xi (numpy 3d array): Tensor of recordings, has shape (n_trials, T, C)\n",
    "    dt (float):         Duration of a time bin\n",
    "\n",
    "    Returns:\n",
    "    psi_new (numpy vector): Updated initial probabilities for each state\n",
    "    A_new (numpy matrix):   Updated transition matrix, A[i,j] represents the\n",
    "                        prob. to switch from j to i. Has shape (K,K)\n",
    "    L_new (numpy matrix):   Updated Poisson rate parameter for different\n",
    "                        cells. Has shape (C,K)\n",
    "    \"\"\"\n",
    "    psi_new = np.mean(gamma[:, 0], axis=0)\n",
    "    # Make sure the probabilities are normalized\n",
    "    psi_new /= psi_new.sum()\n",
    "\n",
    "    # Calculate new transition matrix\n",
    "    A_new = xi.sum(axis=(0, 1)) / gamma[:, :-1].sum(axis=(0, 1))[:, np.newaxis]\n",
    "    # Calculate new firing rates\n",
    "    L_new = (np.swapaxes(Y, -1, -2) @ gamma).sum(axis=0) / gamma.sum(axis=(0, 1)) / dt\n",
    "    \n",
    "    return psi_new, A_new, L_new"
   ]
  },
  {
   "cell_type": "markdown",
   "metadata": {},
   "source": [
    "### Training HMM"
   ]
  },
  {
   "cell_type": "code",
   "execution_count": 21,
   "metadata": {},
   "outputs": [],
   "source": [
    "n_trials_test = 20\n",
    "\n",
    "test_data = binned_data[:n_trials_test]  # shape = (n_trials, T, n_neurons)"
   ]
  },
  {
   "cell_type": "code",
   "execution_count": 22,
   "metadata": {},
   "outputs": [],
   "source": [
    "# initializing (random) model params: A (transition probs), psi (initial state probs), L (emission probs)\n",
    "\n",
    "# number of neurons = N\n",
    "\n",
    "n_neurons = test_data.shape[2]\n",
    "\n",
    "# number of hidden states = K\n",
    "k_states = 10\n",
    "\n",
    "trial_T = 2.5\n",
    "dt = 0.001\n",
    "\n",
    "T = round(trial_T / dt)\n",
    "ts = np.arange(T)\n",
    "\n",
    "# initial state distribution\n",
    "psi = np.arange(1, k_states + 1)\n",
    "psi = psi / psi.sum()\n",
    "\n",
    "# off-diagonal transition rates sampled uniformly\n",
    "\n",
    "max_transition_rate = 20 # Hz\n",
    "\n",
    "A = np.random.rand(k_states, k_states) * max_transition_rate * dt\n",
    "A = (1. - np.eye(k_states)) * A\n",
    "A = A + np.diag(1 - A.sum(1))\n",
    "\n",
    "# emission probabilities (shape = (N_neurons, K_states))\n",
    "L = np.random.rand(n_neurons, k_states) * max_firing_rate"
   ]
  },
  {
   "cell_type": "code",
   "execution_count": 23,
   "metadata": {},
   "outputs": [
    {
     "data": {
      "application/vnd.jupyter.widget-view+json": {
       "model_id": "e3c7af803f234c9bb6bc432562b41401",
       "version_major": 2,
       "version_minor": 0
      },
      "text/plain": [
       "HBox(children=(FloatProgress(value=0.0, max=5.0), HTML(value='')))"
      ]
     },
     "metadata": {},
     "output_type": "display_data"
    },
    {
     "name": "stdout",
     "output_type": "stream",
     "text": [
      "\n",
      "Wall time: 4min 31s\n"
     ]
    }
   ],
   "source": [
    "%%time\n",
    "\n",
    "n_trains = 5\n",
    "\n",
    "psi_new, A_new, L_new = psi, A, L\n",
    "\n",
    "for i in tqdm(range(n_trains)):\n",
    "    ll, gamma, xi = e_step(test_data, psi_new, A_new, L_new, dt)\n",
    "    psi_new, A_new, L_new = m_step(test_data, gamma, xi, dt)\n",
    "    \n",
    "ll, gamma, xi = e_step(test_data, psi_new, A_new, L_new, dt)"
   ]
  },
  {
   "cell_type": "markdown",
   "metadata": {},
   "source": [
    "### HMM Decoding state sequence\n",
    "\n",
    "Choose trial, for each timestep t compute (arg)maximum of the gamma(i_trial, t, :)"
   ]
  },
  {
   "cell_type": "code",
   "execution_count": 24,
   "metadata": {},
   "outputs": [
    {
     "name": "stdout",
     "output_type": "stream",
     "text": [
      "[[0.94  0.014 0.006 0.008 0.001]\n",
      " [0.006 0.89  0.013 0.019 0.017]\n",
      " [0.02  0.007 0.92  0.019 0.005]\n",
      " [0.013 0.005 0.001 0.92  0.001]\n",
      " [0.    0.008 0.017 0.007 0.928]]\n"
     ]
    },
    {
     "data": {
      "text/plain": [
       "[<matplotlib.lines.Line2D at 0x231af893d88>]"
      ]
     },
     "execution_count": 24,
     "metadata": {},
     "output_type": "execute_result"
    },
    {
     "data": {
      "image/png": "[encoded data removed]",
      "text/plain": [
       "<Figure size 432x288 with 1 Axes>"
      ]
     },
     "metadata": {
      "needs_background": "light"
     },
     "output_type": "display_data"
    }
   ],
   "source": [
    "i_trial = 10\n",
    "\n",
    "state_sequence = np.argmax(gamma[i_trial], axis=1)\n",
    "\n",
    "print(np.around(A[:5, :5], 3))\n",
    "\n",
    "plt.plot(state_sequence)"
   ]
  },
  {
   "cell_type": "markdown",
   "metadata": {},
   "source": [
    "#### Each step again for different number of states:\n",
    "1. Initialize model -> set K, psi, A, L\n",
    "2. Train model -> compute ll, gamma, xi; retain new model params"
   ]
  },
  {
   "cell_type": "code",
   "execution_count": 25,
   "metadata": {},
   "outputs": [
    {
     "data": {
      "application/vnd.jupyter.widget-view+json": {
       "model_id": "75b4c28d545e4fdba7ead3f628759cf1",
       "version_major": 2,
       "version_minor": 0
      },
      "text/plain": [
       "HBox(children=(FloatProgress(value=0.0, max=15.0), HTML(value='')))"
      ]
     },
     "metadata": {},
     "output_type": "display_data"
    },
    {
     "name": "stdout",
     "output_type": "stream",
     "text": [
      "\n"
     ]
    }
   ],
   "source": [
    "n_steps = 15\n",
    "\n",
    "k_states_list = range(5, 5 + n_steps)\n",
    "\n",
    "ll_list, gamma_list, xi_list = [], [], []\n",
    "psi_list, A_list, L_list = [], [], []\n",
    "# Some lists will contain np.arrays of different shapes (because of varying k_states)\n",
    "\n",
    "test_data = binned_data[:n_trials_test]\n",
    "\n",
    "# iterating over k_states = (5, 6, ... 29)\n",
    "for i in tqdm(range(n_steps)):\n",
    "    \n",
    "    \"\"\" STEP 1: Initializing \"\"\"\n",
    "\n",
    "    # number of neurons\n",
    "    n_neurons = test_data.shape[2]\n",
    "\n",
    "    # number of hidden states\n",
    "    k_states = k_states_list[i]\n",
    "\n",
    "    trial_T = 2.5\n",
    "    dt = 0.001\n",
    "\n",
    "    T = round(trial_T / dt)\n",
    "    ts = np.arange(T)\n",
    "\n",
    "    # initial state distribution, random set each time\n",
    "    # shape = (K_states)\n",
    "    psi = np.random.rand(k_states)\n",
    "    psi = psi / psi.sum()\n",
    "\n",
    "    # transition matrix A; off-diagonal transition rates sampled uniformly\n",
    "    # shape = (K_states, K_states)\n",
    "\n",
    "    max_transition_rate = 20 # Hz\n",
    "\n",
    "    A = np.random.rand(k_states, k_states) * max_transition_rate * dt\n",
    "    A = (1. - np.eye(k_states)) * A\n",
    "    A = A + np.diag(1 - A.sum(1))\n",
    "\n",
    "    # emission probabilitiesl sampled randomly \n",
    "    # (shape = (N_neurons, K_states))\n",
    "    L = np.random.rand(n_neurons, k_states) * max_firing_rate\n",
    "    \n",
    "    \"\"\" STEP 2: Training \"\"\"\n",
    "    \n",
    "    n_trains = 5\n",
    "\n",
    "    psi_new, A_new, L_new = psi, A, L\n",
    "    for i in range(n_trains):\n",
    "        ll, gamma, xi = e_step(test_data, psi_new, A_new, L_new, dt)\n",
    "        psi_new, A_new, L_new = m_step(test_data, gamma, xi, dt)\n",
    "\n",
    "    ll, gamma, xi = e_step(test_data, psi_new, A_new, L_new, dt)\n",
    "    \n",
    "    # adding obtained values to lists\n",
    "    ll_list.append(ll)\n",
    "    gamma_list.append(gamma)\n",
    "    xi_list.append(xi)\n",
    "    \n",
    "    psi_list.append(psi_new)\n",
    "    A_list.append(A_new)\n",
    "    L_list.append(L_new)\n",
    "    \n",
    "# TODO: find model with maximal loglikelihood, use its params to generate state sequence"
   ]
  },
  {
   "cell_type": "code",
   "execution_count": 30,
   "metadata": {},
   "outputs": [
    {
     "data": {
      "text/plain": [
       "4"
      ]
     },
     "execution_count": 30,
     "metadata": {},
     "output_type": "execute_result"
    }
   ],
   "source": [
    "model_idx = np.argmax(ll_list)\n",
    "\n",
    "model_idx"
   ]
  },
  {
   "cell_type": "code",
   "execution_count": 44,
   "metadata": {},
   "outputs": [
    {
     "name": "stdout",
     "output_type": "stream",
     "text": [
      "[[0.793 0.019 0.016 0.013 0.   ]\n",
      " [0.002 0.832 0.012 0.014 0.006]\n",
      " [0.    0.001 0.823 0.013 0.008]\n",
      " [0.019 0.003 0.006 0.839 0.007]\n",
      " [0.003 0.013 0.008 0.015 0.796]]\n"
     ]
    },
    {
     "data": {
      "text/plain": [
       "[<matplotlib.lines.Line2D at 0x231baaddc08>]"
      ]
     },
     "execution_count": 44,
     "metadata": {},
     "output_type": "execute_result"
    },
    {
     "data": {
      "image/png": "[encoded data removed]",
      "text/plain": [
       "<Figure size 432x288 with 1 Axes>"
      ]
     },
     "metadata": {
      "needs_background": "light"
     },
     "output_type": "display_data"
    }
   ],
   "source": [
    "gamma = gamma_list[4]\n",
    "\n",
    "i_trial = 15\n",
    "\n",
    "state_sequence = np.argmax(gamma[i_trial], axis=1)\n",
    "\n",
    "print(np.around(A[:5, :5], 3))\n",
    "\n",
    "plt.plot(state_sequence)"
   ]
  },
  {
   "cell_type": "markdown",
   "metadata": {},
   "source": [
    "## Function for neuron selection"
   ]
  },
  {
   "cell_type": "code",
   "execution_count": 27,
   "metadata": {},
   "outputs": [],
   "source": [
    "def neurons_from_area(area, alldat, neuron_type='exc'):\n",
    "    # neuron_type: 'exc' - firing rate increase after stimulation, 'inh' -- decrease, 'all' -- all\n",
    "    \n",
    "    V1stim_neurons_rec = []\n",
    "    stim_neurons_rec = []\n",
    "    \n",
    "    for record in range(len(alldat)):\n",
    "        \n",
    "        dat = alldat[record]\n",
    "        V1_stim_neurons = []\n",
    "        stim_neurons = []\n",
    "        \n",
    "        times = np.arange(0, 2.5, 0.01) # recording times\n",
    "        \n",
    "        nogo_trials = []\n",
    "        for i in range(dat['spks'].shape[1]):\n",
    "            if dat['contrast_left'][i] == 0 and dat['contrast_right'][i] == 0:\n",
    "                nogo_trials.append(i)\n",
    "        \n",
    "        for i_neuron in range(dat['spks'].shape[0]):\n",
    "            \n",
    "            prestim = [] # intervals before the stimulus onset\n",
    "            poststim = [] # intervals from stimulus onset to mouse response\n",
    "\n",
    "            for trial in range(dat['spks'].shape[1]):\n",
    "      \n",
    "                # exclude NoGo trials\n",
    "                if trial not in nogo_trials:\n",
    "                    \n",
    "                    # 0.5 sec - time of visual stimulus onset\n",
    "                    # gocue - is auditory stimulus, which usually follows the visual one\n",
    "                    if dat['gocue'][trial] > 0.5:\n",
    "                        cue = dat['gocue'][trial]\n",
    "                    else:\n",
    "                        cue = 0.5\n",
    "                    resp = dat['response_time'][trial]\n",
    "\n",
    "                    # time index of stimulus onset\n",
    "                    cue_i = (np.abs(times - cue)).argmin()\n",
    "\n",
    "                    # time index of response\n",
    "                    resp_i = (np.abs(times - resp)).argmin()\n",
    "\n",
    "                    # append number of spikes normalized by a time period (\"frequency\")\n",
    "                    prestim.append(np.sum(dat['spks'][i_neuron, trial, :cue_i]) / times[cue_i-1])\n",
    "                    poststim.append(np.sum(dat['spks'][i_neuron, trial, cue_i:resp_i]) / (times[resp_i]-times[cue_i]))\n",
    "        \n",
    "\n",
    "            # exclude nan values from lists (часототы для данного нейрона на разных триалах до и после стимуляции)\n",
    "            prestim = [pr for pr in prestim if str(pr) != 'nan']\n",
    "            poststim = [pr for pr in poststim if str(pr) != 'nan']\n",
    "        \n",
    "            # add neuron index to stim_neurons if average spike frequency during stimulus time period\n",
    "            # is greater than average spike frequency during interstimulus time interval\n",
    "            if neuron_type == 'exc': \n",
    "                if np.mean(poststim) > np.mean(prestim): # мб любой парный стат-тест на матожидание (вилкоксона) \n",
    "                    stim_neurons.append(i_neuron)\n",
    "            elif neuron_type == 'inh':\n",
    "                if np.mean(poststim) < np.mean(prestim): # также стат-тест\n",
    "                    stim_neurons.append(i_neuron)\n",
    "            else:\n",
    "                stim_neurons.append(i_neuron) # можно добавить вариант с двусторонним тестом\n",
    "           \n",
    "          \n",
    "        # choose neurons from area:\n",
    "        for neuron_i in range(len(stim_neurons)):\n",
    "            if dat['brain_area'][stim_neurons[neuron_i]] == area:\n",
    "                V1_stim_neurons.append(stim_neurons[neuron_i])\n",
    "\n",
    "        V1stim_neurons_rec.append(V1_stim_neurons)\n",
    "        stim_neurons_rec.append(stim_neurons) \n",
    "        \n",
    "#         break\n",
    "        \n",
    "    return np.array(V1stim_neurons_rec)"
   ]
  },
  {
   "cell_type": "markdown",
   "metadata": {},
   "source": [
    "## Firing rate calculation"
   ]
  },
  {
   "cell_type": "code",
   "execution_count": 28,
   "metadata": {},
   "outputs": [],
   "source": [
    "def firing_rate(spikes, window=5):\n",
    "    return np.stack(\n",
    "        [np.sum(spikes[..., i - window:i], -1) / (10 * window) * 1000 \n",
    "         for i in range(window, spikes.shape[-1])],\n",
    "        -1\n",
    "    )"
   ]
  }
 ],
 "metadata": {
  "kernelspec": {
   "display_name": "Python 3",
   "language": "python",
   "name": "python3"
  },
  "language_info": {
   "codemirror_mode": {
    "name": "ipython",
    "version": 3
   },
   "file_extension": ".py",
   "mimetype": "text/x-python",
   "name": "python",
   "nbconvert_exporter": "python",
   "pygments_lexer": "ipython3",
   "version": "3.7.6"
  }
 },
 "nbformat": 4,
 "nbformat_minor": 2
}
